{
  "nbformat": 4,
  "nbformat_minor": 0,
  "metadata": {
    "colab": {
      "name": "Python Boolean.ipynb",
      "provenance": [],
      "collapsed_sections": [
        "6XUZFN6tn75v"
      ],
      "include_colab_link": true
    },
    "kernelspec": {
      "name": "python3",
      "display_name": "Python 3"
    },
    "language_info": {
      "name": "python"
    }
  },
  "cells": [
    {
      "cell_type": "markdown",
      "metadata": {
        "id": "view-in-github",
        "colab_type": "text"
      },
      "source": [
        "<a href=\"https://colab.research.google.com/github/Omegeon/Thai-Python-Tutorial/blob/main/Python_Boolean.ipynb\" target=\"_parent\"><img src=\"https://colab.research.google.com/assets/colab-badge.svg\" alt=\"Open In Colab\"/></a>"
      ]
    },
    {
      "cell_type": "markdown",
      "metadata": {
        "id": "2FkExhFIoNY8"
      },
      "source": [
        "### <font color=\"lightblue\">**Python Booleans**"
      ]
    },
    {
      "cell_type": "markdown",
      "metadata": {
        "id": "6XUZFN6tn75v"
      },
      "source": [
        "### <font color=\"lightblue\">**ค่าของ Boolean**"
      ]
    },
    {
      "cell_type": "markdown",
      "metadata": {
        "id": "Pi4B7jk_nZkJ"
      },
      "source": [
        "ในการเขียนโปรแกรม ค่า Boolean ที่เราจำเป็นต้องรู้ คือ \"True\" และ \"False\"\n",
        "\n",
        "โดยที่ เราสามารถประเมินค่านิพจน์อะไรก็ได้ในไพธอน และได้ค่า boolean ออกมาสองค่า คือ ไม่ \"True\" ก็ \"False\"\n",
        "\n",
        "เมื่อเราเปรียบเทียบค่าสองค่า นิพจน์จะถูกประเมินและไพธอนจะคืนค่า boolean ออกมา"
      ]
    },
    {
      "cell_type": "code",
      "metadata": {
        "id": "LJBxqh5kodY2",
        "colab": {
          "base_uri": "https://localhost:8080/"
        },
        "outputId": "4ce4fa28-8180-4aec-ae67-1540347847de"
      },
      "source": [
        "print(10 > 9)\n",
        "print(10 == 9)\n",
        "print(10 < 9)"
      ],
      "execution_count": null,
      "outputs": [
        {
          "output_type": "stream",
          "text": [
            "True\n",
            "False\n",
            "False\n"
          ],
          "name": "stdout"
        }
      ]
    },
    {
      "cell_type": "markdown",
      "metadata": {
        "id": "39JL0O-Moh2R"
      },
      "source": [
        "ไพธอนจะคืนค่าออกมาเป็น boolean เมื่อเรารันบนเงื่อนไข If"
      ]
    },
    {
      "cell_type": "code",
      "metadata": {
        "id": "wvEs1ZlPokNY",
        "colab": {
          "base_uri": "https://localhost:8080/"
        },
        "outputId": "9a117c2f-be45-49f1-c91a-1bc25110c3ed"
      },
      "source": [
        "a = 200\n",
        "b = 33\n",
        "\n",
        "if b > a:\n",
        "  print(\"b is greater than a\")\n",
        "else:\n",
        "  print(\"b is not greater than a\")"
      ],
      "execution_count": null,
      "outputs": [
        {
          "output_type": "stream",
          "text": [
            "b is not greater than a\n"
          ],
          "name": "stdout"
        }
      ]
    },
    {
      "cell_type": "markdown",
      "metadata": {
        "id": "3WHFf7Pmone1"
      },
      "source": [
        "### <font color=\"lightblue\">**การประเมินค่าและตัวแปร**"
      ]
    },
    {
      "cell_type": "markdown",
      "metadata": {
        "id": "N7v6KcXHo6JO"
      },
      "source": [
        "ฟังก์ชัน bool() อนุญาตให้เราประเมินค่าอะไรก็ได้ทุกค่า และให้ค่า \"True\" หรือ \"False\" คืนให้เรา"
      ]
    },
    {
      "cell_type": "code",
      "metadata": {
        "id": "89awKq1Lo80B",
        "colab": {
          "base_uri": "https://localhost:8080/"
        },
        "outputId": "2a9df9d5-38fa-4b17-b021-f45833fcaccc"
      },
      "source": [
        "print(bool(\"Hello\"))\n",
        "print(bool(15))"
      ],
      "execution_count": null,
      "outputs": [
        {
          "output_type": "stream",
          "text": [
            "True\n",
            "True\n"
          ],
          "name": "stdout"
        }
      ]
    },
    {
      "cell_type": "code",
      "metadata": {
        "id": "JSA9b0sbpFff",
        "colab": {
          "base_uri": "https://localhost:8080/"
        },
        "outputId": "a2c05134-923c-485f-e2de-6f9fb27010d2"
      },
      "source": [
        "x = \"Hello\"\n",
        "y = 15\n",
        "\n",
        "print(bool(x))\n",
        "print(bool(y))"
      ],
      "execution_count": null,
      "outputs": [
        {
          "output_type": "stream",
          "text": [
            "True\n",
            "True\n"
          ],
          "name": "stdout"
        }
      ]
    },
    {
      "cell_type": "markdown",
      "metadata": {
        "id": "N1tRjh23pj2-"
      },
      "source": [
        "### <font color=\"lightblue\">**ค่าและตัวแปรส่วนใหญ่ จะเป็น \"True\"**"
      ]
    },
    {
      "cell_type": "markdown",
      "metadata": {
        "id": "RdjNCOS2puLA"
      },
      "source": [
        "เกือบจะทุกค่าที่ประเมินออกมา แค่มันมีเนื้อหา จะเป็น \"True\"\n",
        "\n",
        "String (str) ทุกตัว เป็น \"True\" ยกเว้นไว้แค่ empty string(ไม่ได้เขียนอะไร ปล่อยว่างไว้)\n",
        "\n",
        "ตัวเลข (Integer หรือ Int) ทุกตัวเป็น \"True\" ยกเว้น 0\n",
        "\n",
        "List Tuple Set และ Dictionary เป็น \"True\" เสมอ ถ้ามีค่าอยู่ภายใน"
      ]
    },
    {
      "cell_type": "code",
      "metadata": {
        "id": "WGbNonDZpxs8",
        "colab": {
          "base_uri": "https://localhost:8080/"
        },
        "outputId": "0d286854-cdbc-4e80-83ec-1e34582d0634"
      },
      "source": [
        "bool(\"abc\")\n",
        "bool(123)\n",
        "bool([\"apple\", \"cherry\", \"banana\"])"
      ],
      "execution_count": null,
      "outputs": [
        {
          "output_type": "execute_result",
          "data": {
            "text/plain": [
              "True"
            ]
          },
          "metadata": {},
          "execution_count": 5
        }
      ]
    },
    {
      "cell_type": "markdown",
      "metadata": {
        "id": "_qphnxmurcRQ"
      },
      "source": [
        "### <font color=\"lightblue\">**ค่าและตัวแปรบางค่า จะเป็น \"False\"**"
      ]
    },
    {
      "cell_type": "markdown",
      "metadata": {
        "id": "_lXlgOqlrLXI"
      },
      "source": [
        "มีอยู่ไม่กี่ค่า ที่จะแสดงค่าออกมาเป็น \"False\" เช่น 0, ค่า list tuple set และ dictionary ที่ว่าง รวมถึง ค่า \"None\""
      ]
    },
    {
      "cell_type": "code",
      "metadata": {
        "colab": {
          "base_uri": "https://localhost:8080/"
        },
        "id": "tgpzXwIVrNmN",
        "outputId": "9855704e-9ab1-4ef3-ea49-eefb7792d8a4"
      },
      "source": [
        "bool(False)\n",
        "bool(None)\n",
        "bool(0)\n",
        "bool(\"\")\n",
        "bool(())\n",
        "bool([])\n",
        "bool({})"
      ],
      "execution_count": null,
      "outputs": [
        {
          "output_type": "execute_result",
          "data": {
            "text/plain": [
              "False"
            ]
          },
          "metadata": {},
          "execution_count": 6
        }
      ]
    },
    {
      "cell_type": "markdown",
      "metadata": {
        "id": "zT6T89RfrRfA"
      },
      "source": [
        "มีอีกหนึ่งกรณี คือ ถ้าเรามี object ที่สร้างมาจาก class ด้วยฟังก์ชัน ```__len__``` ตัวฟังก์ชันนี้จะคืนค่า 0 หรือ \"False\" ให้เรา\n",
        "\n",
        "\n",
        "\n"
      ]
    },
    {
      "cell_type": "code",
      "metadata": {
        "colab": {
          "base_uri": "https://localhost:8080/"
        },
        "id": "Tb1U0usLrVnO",
        "outputId": "090d0db8-7200-4b92-d02d-57766405ab7d"
      },
      "source": [
        "class myclass():\n",
        "  def __len__(self):\n",
        "    return 0\n",
        "\n",
        "myobj = myclass()\n",
        "print(bool(myobj))"
      ],
      "execution_count": null,
      "outputs": [
        {
          "output_type": "stream",
          "text": [
            "False\n"
          ],
          "name": "stdout"
        }
      ]
    },
    {
      "cell_type": "markdown",
      "metadata": {
        "id": "4qYqdoSorl-l"
      },
      "source": [
        "### <font color=\"lightblue\">**ฟังก์ชันที่คืนค่า boolean**"
      ]
    },
    {
      "cell_type": "markdown",
      "metadata": {
        "id": "-oBnTGAtrnnE"
      },
      "source": [
        "เราสามารถสร้างฟังก์ชันให้สามารถคืนค่า boolean ออกมาได้"
      ]
    },
    {
      "cell_type": "code",
      "metadata": {
        "colab": {
          "base_uri": "https://localhost:8080/"
        },
        "id": "ATqQqxnlrpt8",
        "outputId": "a7a0a0be-95f5-4ff4-f5c4-3e4e19c41ea8"
      },
      "source": [
        "def myFunction() :\n",
        "  return True\n",
        "\n",
        "print(myFunction())"
      ],
      "execution_count": null,
      "outputs": [
        {
          "output_type": "stream",
          "text": [
            "True\n"
          ],
          "name": "stdout"
        }
      ]
    },
    {
      "cell_type": "markdown",
      "metadata": {
        "id": "STz5Pi0Ert89"
      },
      "source": [
        "เราสามารถสั่งดำเนินการรันโค้ดให้นำค่า Boolean ในฟังก์ชันไปใช้ต่อได้"
      ]
    },
    {
      "cell_type": "code",
      "metadata": {
        "colab": {
          "base_uri": "https://localhost:8080/"
        },
        "id": "M7vIzr83rwW_",
        "outputId": "f615b2fe-e842-4b75-f302-57c7dea724fc"
      },
      "source": [
        "def myFunction() :\n",
        "  return True\n",
        "\n",
        "if myFunction():\n",
        "  print(\"YES!\")\n",
        "else:\n",
        "  print(\"NO!\")"
      ],
      "execution_count": null,
      "outputs": [
        {
          "output_type": "stream",
          "text": [
            "YES!\n"
          ],
          "name": "stdout"
        }
      ]
    },
    {
      "cell_type": "markdown",
      "metadata": {
        "id": "hCisY3pyryxg"
      },
      "source": [
        "ไพธอนมีฟังก์ชันแบบ built-in ที่สั่งให้คืนค่า boolean เยอะมาก เช่น isinstance() ที่จะใช้กำหนดว่า data type ของค่านั้นๆ กับ data type ที่เรียกตรวจสอบ เป็นอย่างเดียวกันหรือไม่\n"
      ]
    },
    {
      "cell_type": "code",
      "metadata": {
        "colab": {
          "base_uri": "https://localhost:8080/"
        },
        "id": "sx5FZpftr1Po",
        "outputId": "7225a116-dd54-414a-8f7d-4eafa2b2ec9b"
      },
      "source": [
        "x = 200\n",
        "print(isinstance(x, int))"
      ],
      "execution_count": null,
      "outputs": [
        {
          "output_type": "stream",
          "text": [
            "True\n"
          ],
          "name": "stdout"
        }
      ]
    }
  ]
}